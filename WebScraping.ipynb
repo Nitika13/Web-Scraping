{
 "cells": [
  {
   "cell_type": "code",
   "execution_count": 149,
   "metadata": {},
   "outputs": [],
   "source": [
    "# %pip install bs4"
   ]
  },
  {
   "cell_type": "code",
   "execution_count": 150,
   "metadata": {},
   "outputs": [],
   "source": [
    "# %pip install requests"
   ]
  },
  {
   "cell_type": "markdown",
   "metadata": {},
   "source": [
    "Nitika \n",
    "102203847\n",
    "3CO19"
   ]
  },
  {
   "cell_type": "markdown",
   "metadata": {},
   "source": [
    "Question 1 "
   ]
  },
  {
   "cell_type": "code",
   "execution_count": 7,
   "metadata": {},
   "outputs": [],
   "source": [
    "import requests\n",
    "from bs4 import BeautifulSoup\n",
    "import pandas as pd"
   ]
  },
  {
   "cell_type": "code",
   "execution_count": 152,
   "metadata": {},
   "outputs": [],
   "source": [
    "df = pd.DataFrame(columns=['headlines','newslink'])"
   ]
  },
  {
   "cell_type": "code",
   "execution_count": 153,
   "metadata": {},
   "outputs": [],
   "source": [
    "def get_data(n):\n",
    "    url='https://timesofindia.indiatimes.com/home/headlines'\n",
    "    response = requests.get(url)\n",
    "    soup=BeautifulSoup(response.content,'html.parser')\n",
    "    headline= soup.find_all('span', attrs={'class':\"w_tle\"})\n",
    "    for i in headline[:n]:\n",
    "        print(i.text)\n",
    "        newslink= i.find('a')\n",
    "        print('https://timesofindia.indiatimes.com/india/'+newslink.get('href'))\n",
    "        news_data= []\n",
    "        if i.text is not None:\n",
    "            news_data.append(i.text)\n",
    "        else:\n",
    "            news_data.append('NAN')\n",
    "        if newslink is not None:\n",
    "            news_data.append('https://timesofindia.indiatimes.com/india/'+newslink.get('href'))\n",
    "        else:\n",
    "            news_data.append('NAN')\n",
    "        df.loc[len(df)] = news_data\n",
    "    return df\n"
   ]
  },
  {
   "cell_type": "code",
   "execution_count": 154,
   "metadata": {},
   "outputs": [
    {
     "name": "stdout",
     "output_type": "stream",
     "text": [
      "Amid China standoff, India set to boost naval power with 3rd nuclear-powered submarine\n",
      "https://timesofindia.indiatimes.com/india//india/amid-china-standoff-india-set-to-boost-naval-power-with-3rd-n-sub-in-6-months/articleshow/112905487.cms\n",
      "'I sit next to Ajit Pawar in cabinet, but vomit after coming out'\n",
      "https://timesofindia.indiatimes.com/india//city/mumbai/i-sit-next-to-ncp-chief-in-cabinet-but-vomit-after-coming-out-sena-mantri/articleshow/112906377.cms\n",
      "Why terrorists on the loose in Bangladesh are a big threat to India\n",
      "https://timesofindia.indiatimes.com/india//world/south-asia/why-terrorists-on-the-loose-in-bangladesh-are-a-big-threat-to-india/articleshow/112894426.cms\n",
      "'Kejriwal appears in dream’: Delhi councillor back in AAP after 4-day BJP stint\n",
      "https://timesofindia.indiatimes.com/india//city/delhi/cm-arvind-kejriwal-appears-in-dream-councillor-returns-to-aap/articleshow/112905446.cms\n",
      "Pancakes & a call: How Kamala Harris learned of Biden's decision to step back\n",
      "https://timesofindia.indiatimes.com/india//world/us/pancakes-a-phone-call-kamala-harris-shares-how-she-learned-of-bidens-decision-to-step-back/articleshow/112911386.cms\n",
      "'Thodi si emergency': Ex-Pak cricket captain alerts fans\n",
      "https://timesofindia.indiatimes.com/india//sports/cricket/news/thodi-si-emergency-former-pakistan-captain-ramiz-raja-alerts-fans-following-him/articleshow/112911602.cms\n",
      "What's stopping India from becoming a manufacturing powerhouse?\n",
      "https://timesofindia.indiatimes.com/india//india/indias-manufactured-problem/articleshow/112902445.cms\n",
      "Reliance has now become a net producer of technology ... : Ambani\n",
      "https://timesofindia.indiatimes.com/india//technology/tech-news/mukesh-ambani-at-rils-47th-agm-reliance-has-now-become-a-net-producer-of-technology-/articleshow/112904611.cms\n",
      "Paris Paralympics, August 30: India's Full Schedule\n",
      "https://timesofindia.indiatimes.com/india//sports/paris-paralympics/paris-paralympics-2024-day-2-august-30-indias-full-schedule/articleshow/112902297.cms\n",
      "Elon Musk’s feud with Brazil’s Supreme Court justice: All you need to know\n",
      "https://timesofindia.indiatimes.com/india//world/rest-of-world/elon-musks-feud-with-brazils-supreme-court-justice-all-you-need-to-know/articleshow/112911674.cms\n"
     ]
    },
    {
     "data": {
      "text/html": [
       "<div>\n",
       "<style scoped>\n",
       "    .dataframe tbody tr th:only-of-type {\n",
       "        vertical-align: middle;\n",
       "    }\n",
       "\n",
       "    .dataframe tbody tr th {\n",
       "        vertical-align: top;\n",
       "    }\n",
       "\n",
       "    .dataframe thead th {\n",
       "        text-align: right;\n",
       "    }\n",
       "</style>\n",
       "<table border=\"1\" class=\"dataframe\">\n",
       "  <thead>\n",
       "    <tr style=\"text-align: right;\">\n",
       "      <th></th>\n",
       "      <th>headlines</th>\n",
       "      <th>newslink</th>\n",
       "    </tr>\n",
       "  </thead>\n",
       "  <tbody>\n",
       "    <tr>\n",
       "      <th>0</th>\n",
       "      <td>Amid China standoff, India set to boost naval ...</td>\n",
       "      <td>https://timesofindia.indiatimes.com/india//ind...</td>\n",
       "    </tr>\n",
       "    <tr>\n",
       "      <th>1</th>\n",
       "      <td>'I sit next to Ajit Pawar in cabinet, but vomi...</td>\n",
       "      <td>https://timesofindia.indiatimes.com/india//cit...</td>\n",
       "    </tr>\n",
       "    <tr>\n",
       "      <th>2</th>\n",
       "      <td>Why terrorists on the loose in Bangladesh are ...</td>\n",
       "      <td>https://timesofindia.indiatimes.com/india//wor...</td>\n",
       "    </tr>\n",
       "    <tr>\n",
       "      <th>3</th>\n",
       "      <td>'Kejriwal appears in dream’: Delhi councillor ...</td>\n",
       "      <td>https://timesofindia.indiatimes.com/india//cit...</td>\n",
       "    </tr>\n",
       "    <tr>\n",
       "      <th>4</th>\n",
       "      <td>Pancakes &amp; a call: How Kamala Harris learned o...</td>\n",
       "      <td>https://timesofindia.indiatimes.com/india//wor...</td>\n",
       "    </tr>\n",
       "    <tr>\n",
       "      <th>5</th>\n",
       "      <td>'Thodi si emergency': Ex-Pak cricket captain a...</td>\n",
       "      <td>https://timesofindia.indiatimes.com/india//spo...</td>\n",
       "    </tr>\n",
       "    <tr>\n",
       "      <th>6</th>\n",
       "      <td>What's stopping India from becoming a manufact...</td>\n",
       "      <td>https://timesofindia.indiatimes.com/india//ind...</td>\n",
       "    </tr>\n",
       "    <tr>\n",
       "      <th>7</th>\n",
       "      <td>Reliance has now become a net producer of tech...</td>\n",
       "      <td>https://timesofindia.indiatimes.com/india//tec...</td>\n",
       "    </tr>\n",
       "    <tr>\n",
       "      <th>8</th>\n",
       "      <td>Paris Paralympics, August 30: India's Full Sch...</td>\n",
       "      <td>https://timesofindia.indiatimes.com/india//spo...</td>\n",
       "    </tr>\n",
       "    <tr>\n",
       "      <th>9</th>\n",
       "      <td>Elon Musk’s feud with Brazil’s Supreme Court j...</td>\n",
       "      <td>https://timesofindia.indiatimes.com/india//wor...</td>\n",
       "    </tr>\n",
       "  </tbody>\n",
       "</table>\n",
       "</div>"
      ],
      "text/plain": [
       "                                           headlines  \\\n",
       "0  Amid China standoff, India set to boost naval ...   \n",
       "1  'I sit next to Ajit Pawar in cabinet, but vomi...   \n",
       "2  Why terrorists on the loose in Bangladesh are ...   \n",
       "3  'Kejriwal appears in dream’: Delhi councillor ...   \n",
       "4  Pancakes & a call: How Kamala Harris learned o...   \n",
       "5  'Thodi si emergency': Ex-Pak cricket captain a...   \n",
       "6  What's stopping India from becoming a manufact...   \n",
       "7  Reliance has now become a net producer of tech...   \n",
       "8  Paris Paralympics, August 30: India's Full Sch...   \n",
       "9  Elon Musk’s feud with Brazil’s Supreme Court j...   \n",
       "\n",
       "                                            newslink  \n",
       "0  https://timesofindia.indiatimes.com/india//ind...  \n",
       "1  https://timesofindia.indiatimes.com/india//cit...  \n",
       "2  https://timesofindia.indiatimes.com/india//wor...  \n",
       "3  https://timesofindia.indiatimes.com/india//cit...  \n",
       "4  https://timesofindia.indiatimes.com/india//wor...  \n",
       "5  https://timesofindia.indiatimes.com/india//spo...  \n",
       "6  https://timesofindia.indiatimes.com/india//ind...  \n",
       "7  https://timesofindia.indiatimes.com/india//tec...  \n",
       "8  https://timesofindia.indiatimes.com/india//spo...  \n",
       "9  https://timesofindia.indiatimes.com/india//wor...  "
      ]
     },
     "execution_count": 154,
     "metadata": {},
     "output_type": "execute_result"
    }
   ],
   "source": [
    "get_data(10)"
   ]
  },
  {
   "cell_type": "markdown",
   "metadata": {},
   "source": [
    "Question 2"
   ]
  },
  {
   "cell_type": "code",
   "execution_count": 8,
   "metadata": {},
   "outputs": [],
   "source": [
    "df= pd.DataFrame(columns=['Job Title','Company','Job Link'])"
   ]
  },
  {
   "cell_type": "code",
   "execution_count": 9,
   "metadata": {},
   "outputs": [],
   "source": [
    "def getdata(jobprofile,location):\n",
    "   global df\n",
    "   url = 'https://www.linkedin.com/jobs/search?keywords='+str(jobprofile)+'&location='+str(location)+'&trk=public_jobs_jobs-search-bar_search-submit&position=1&pageNum=0'\n",
    "   response= requests.get(url)\n",
    "   soup=BeautifulSoup(response.content,'html.parser')\n",
    "   job_details = []\n",
    "   for d in soup.find_all('div', attrs={'class':\"base-search-card__info\"}):\n",
    "        job= d.find('h3',attrs={'class':\"base-search-card__title\"})\n",
    "        company= d.find('h4',attrs={'class':\"base-search-card__subtitle\"})\n",
    "        previous_sibling = d.find_previous_sibling('a')\n",
    "        joblink= previous_sibling.get('href')\n",
    "      #   print(job.text)\n",
    "      #   print(company.text)  \n",
    "      #   print(joblink)\n",
    "        jobdata={}\n",
    "        if job is not None:\n",
    "         jobdata['Job Title']= job.text.strip()\n",
    "        else:\n",
    "         jobdata['Job Title']= 'NAN'\n",
    "        if company is not None:\n",
    "         jobdata['Company']=company.text.strip()\n",
    "        else:\n",
    "         jobdata['Company']='NAN'\n",
    "        if joblink is not None:\n",
    "         jobdata['Job Link']=joblink\n",
    "        else:\n",
    "         jobdata['Job Link']='NAN'\n",
    "        job_details.append(jobdata)\n",
    "   df = pd.DataFrame(job_details)\n",
    "   return df "
   ]
  },
  {
   "cell_type": "code",
   "execution_count": 10,
   "metadata": {},
   "outputs": [
    {
     "data": {
      "text/html": [
       "<div>\n",
       "<style scoped>\n",
       "    .dataframe tbody tr th:only-of-type {\n",
       "        vertical-align: middle;\n",
       "    }\n",
       "\n",
       "    .dataframe tbody tr th {\n",
       "        vertical-align: top;\n",
       "    }\n",
       "\n",
       "    .dataframe thead th {\n",
       "        text-align: right;\n",
       "    }\n",
       "</style>\n",
       "<table border=\"1\" class=\"dataframe\">\n",
       "  <thead>\n",
       "    <tr style=\"text-align: right;\">\n",
       "      <th></th>\n",
       "      <th>Job Title</th>\n",
       "      <th>Company</th>\n",
       "      <th>Job Link</th>\n",
       "    </tr>\n",
       "  </thead>\n",
       "  <tbody>\n",
       "    <tr>\n",
       "      <th>0</th>\n",
       "      <td>Software Engineer, Early Career, Campus</td>\n",
       "      <td>Google</td>\n",
       "      <td>https://uk.linkedin.com/jobs/view/software-eng...</td>\n",
       "    </tr>\n",
       "    <tr>\n",
       "      <th>1</th>\n",
       "      <td>Graduate Full Stack Software Engineer</td>\n",
       "      <td>TipTopJob</td>\n",
       "      <td>https://uk.linkedin.com/jobs/view/graduate-ful...</td>\n",
       "    </tr>\n",
       "    <tr>\n",
       "      <th>2</th>\n",
       "      <td>Graduate Software Developer</td>\n",
       "      <td>Blink - Employee Experience Platform</td>\n",
       "      <td>https://uk.linkedin.com/jobs/view/graduate-sof...</td>\n",
       "    </tr>\n",
       "    <tr>\n",
       "      <th>3</th>\n",
       "      <td>******** ******** ********</td>\n",
       "      <td>*****</td>\n",
       "      <td>https://uk.linkedin.com/jobs/view/graduate-sof...</td>\n",
       "    </tr>\n",
       "    <tr>\n",
       "      <th>4</th>\n",
       "      <td>**** ******** ******** *** ********</td>\n",
       "      <td>******</td>\n",
       "      <td>https://uk.linkedin.com/jobs/view/2025-graduat...</td>\n",
       "    </tr>\n",
       "    <tr>\n",
       "      <th>5</th>\n",
       "      <td>******** ******** (********)</td>\n",
       "      <td>******</td>\n",
       "      <td>https://uk.linkedin.com/jobs/view/software-eng...</td>\n",
       "    </tr>\n",
       "    <tr>\n",
       "      <th>6</th>\n",
       "      <td>******** ******** ********</td>\n",
       "      <td>***********</td>\n",
       "      <td>https://uk.linkedin.com/jobs/view/graduate-sof...</td>\n",
       "    </tr>\n",
       "  </tbody>\n",
       "</table>\n",
       "</div>"
      ],
      "text/plain": [
       "                                 Job Title  \\\n",
       "0  Software Engineer, Early Career, Campus   \n",
       "1    Graduate Full Stack Software Engineer   \n",
       "2              Graduate Software Developer   \n",
       "3               ******** ******** ********   \n",
       "4      **** ******** ******** *** ********   \n",
       "5             ******** ******** (********)   \n",
       "6               ******** ******** ********   \n",
       "\n",
       "                                Company  \\\n",
       "0                                Google   \n",
       "1                             TipTopJob   \n",
       "2  Blink - Employee Experience Platform   \n",
       "3                                 *****   \n",
       "4                                ******   \n",
       "5                                ******   \n",
       "6                           ***********   \n",
       "\n",
       "                                            Job Link  \n",
       "0  https://uk.linkedin.com/jobs/view/software-eng...  \n",
       "1  https://uk.linkedin.com/jobs/view/graduate-ful...  \n",
       "2  https://uk.linkedin.com/jobs/view/graduate-sof...  \n",
       "3  https://uk.linkedin.com/jobs/view/graduate-sof...  \n",
       "4  https://uk.linkedin.com/jobs/view/2025-graduat...  \n",
       "5  https://uk.linkedin.com/jobs/view/software-eng...  \n",
       "6  https://uk.linkedin.com/jobs/view/graduate-sof...  "
      ]
     },
     "execution_count": 10,
     "metadata": {},
     "output_type": "execute_result"
    }
   ],
   "source": [
    "getdata(\"software engineer\",\"UK\")\n",
    "# url = 'https://www.linkedin.com/jobs/search?keywords=softwareengineer'+'&location=UK'+'&trk=public_jobs_jobs-search-bar_search-submit&position=1&pageNum=0'\n",
    "# url"
   ]
  }
 ],
 "metadata": {
  "kernelspec": {
   "display_name": "Python 3",
   "language": "python",
   "name": "python3"
  },
  "language_info": {
   "codemirror_mode": {
    "name": "ipython",
    "version": 3
   },
   "file_extension": ".py",
   "mimetype": "text/x-python",
   "name": "python",
   "nbconvert_exporter": "python",
   "pygments_lexer": "ipython3",
   "version": "3.13.1"
  }
 },
 "nbformat": 4,
 "nbformat_minor": 2
}
